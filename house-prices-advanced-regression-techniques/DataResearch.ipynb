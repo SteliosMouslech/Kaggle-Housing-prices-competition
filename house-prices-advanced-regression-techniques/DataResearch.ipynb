{
 "cells": [
  {
   "cell_type": "code",
   "execution_count": 1,
   "metadata": {},
   "outputs": [],
   "source": [
    "import numpy\n",
    "import pandas as pd\n",
    "import matplotlib as plt\n",
    "import numpy as np\n",
    "\n",
    "\n",
    "from sklearn.linear_model import LinearRegression\n",
    "from sklearn.metrics import mean_squared_error, r2_score,mean_absolute_error\n",
    "from sklearn.preprocessing import LabelEncoder,RobustScaler\n",
    "from sklearn.model_selection import KFold, cross_val_score"
   ]
  },
  {
   "cell_type": "code",
   "execution_count": 2,
   "metadata": {},
   "outputs": [],
   "source": [
    "train = pd.read_csv('train.csv')\n",
    "test = pd.read_csv('test.csv')\n",
    "newTrain=train[['SalePrice','LotArea','OverallQual','OverallCond','YearBuilt']]\n",
    "pd.options.mode.chained_assignment = None"
   ]
  },
  {
   "cell_type": "code",
   "execution_count": null,
   "metadata": {},
   "outputs": [],
   "source": []
  },
  {
   "cell_type": "code",
   "execution_count": 3,
   "metadata": {},
   "outputs": [],
   "source": [
    "X_test=test[['LotArea','OverallQual','OverallCond','YearBuilt']]"
   ]
  },
  {
   "cell_type": "code",
   "execution_count": 4,
   "metadata": {},
   "outputs": [
    {
     "data": {
      "text/plain": [
       "array([[ 8450,     7,     5,  2003],\n",
       "       [ 9600,     6,     8,  1976],\n",
       "       [11250,     7,     5,  2001],\n",
       "       ...,\n",
       "       [ 9042,     7,     9,  1941],\n",
       "       [ 9717,     5,     6,  1950],\n",
       "       [ 9937,     5,     6,  1965]])"
      ]
     },
     "execution_count": 4,
     "metadata": {},
     "output_type": "execute_result"
    }
   ],
   "source": [
    "X_train=newTrain[[c for c  in newTrain.columns if c not in ['SalePrice']]].values\n",
    "y_train=newTrain['SalePrice'].ravel()\n",
    "\n",
    "model=LinearRegression()\n",
    "X_train"
   ]
  },
  {
   "cell_type": "code",
   "execution_count": 5,
   "metadata": {},
   "outputs": [
    {
     "data": {
      "text/plain": [
       "LinearRegression(copy_X=True, fit_intercept=True, n_jobs=None, normalize=False)"
      ]
     },
     "execution_count": 5,
     "metadata": {},
     "output_type": "execute_result"
    }
   ],
   "source": [
    "model.fit(X_train,y_train)"
   ]
  },
  {
   "cell_type": "code",
   "execution_count": 6,
   "metadata": {},
   "outputs": [],
   "source": [
    "y_pred=model.predict(X_train)"
   ]
  },
  {
   "cell_type": "code",
   "execution_count": 7,
   "metadata": {},
   "outputs": [],
   "source": [
    "y_test=model.predict(X_test)"
   ]
  },
  {
   "cell_type": "code",
   "execution_count": 8,
   "metadata": {},
   "outputs": [
    {
     "name": "stdout",
     "output_type": "stream",
     "text": [
      "Mean Absolute Error: 30954.64\n",
      "Mean Squared Error: 2087995393.75\n",
      "Root Mean Squared Error: 45694.59\n",
      "Coefficient of Determination: 0.67\n"
     ]
    }
   ],
   "source": [
    "# Calculate metrics\n",
    "print(\"Mean Absolute Error: %.2f\" %mean_absolute_error(y_train, y_pred))\n",
    "print(\"Mean Squared Error: %.2f\" %mean_squared_error(y_train, y_pred))\n",
    "print(\"Root Mean Squared Error: %.2f\" %np.sqrt(mean_squared_error(y_train, y_pred)))\n",
    "print(\"Coefficient of Determination: %.2f\" %r2_score(y_train, y_pred))"
   ]
  },
  {
   "cell_type": "code",
   "execution_count": 9,
   "metadata": {},
   "outputs": [],
   "source": [
    "\n",
    "subDf=pd.DataFrame({'Id':test['Id'].values})\n",
    "subDf['SalePrice']=y_test\n",
    "subDf.to_csv(\"submission.csv\", index=False)"
   ]
  },
  {
   "cell_type": "code",
   "execution_count": null,
   "metadata": {},
   "outputs": [],
   "source": []
  }
 ],
 "metadata": {
  "kernelspec": {
   "display_name": "Python 3",
   "language": "python",
   "name": "python3"
  },
  "language_info": {
   "codemirror_mode": {
    "name": "ipython",
    "version": 3
   },
   "file_extension": ".py",
   "mimetype": "text/x-python",
   "name": "python",
   "nbconvert_exporter": "python",
   "pygments_lexer": "ipython3",
   "version": "3.7.3"
  }
 },
 "nbformat": 4,
 "nbformat_minor": 2
}
